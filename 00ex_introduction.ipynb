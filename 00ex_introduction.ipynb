{
 "cells": [
  {
   "cell_type": "markdown",
   "metadata": {},
   "source": [
    "1. The MickeyMouse problem\n",
    "\n",
    "a) Write a program that prints the numbers from 1 to 100. But for multiples of 3 print `Mickey` instead of the corresponding number and for the multiples of 5 print `Mouse`. For numbers which are multiples of both three and five print `MickeyMouse`\n",
    "\n",
    "b) Put the result in a tuple and substitute `Mickey` with `Donald` and `Mouse` with `Duck`"
   ]
  },
  {
   "cell_type": "code",
   "execution_count": 95,
   "metadata": {},
   "outputs": [
    {
     "name": "stdout",
     "output_type": "stream",
     "text": [
      "1, 2, Mickey, 4, Mouse, Mickey, 7, 8, Mickey, Mouse, 11, Mickey, 13, 14, MickeyMouse, 16, 17, Mickey, 19, Mouse, "
     ]
    }
   ],
   "source": [
    "def mickey(N):\n",
    "    for i in range(N):\n",
    "        j=i+1\n",
    "        if j%15 == 0: \n",
    "            print(\"MickeyMouse, \", end='')\n",
    "        elif j%3 == 0:\n",
    "                print(\"Mickey, \", end='')\n",
    "        elif j%5 == 0:\n",
    "                print(\"Mouse, \", end='')\n",
    "        else:\n",
    "            print(str(j) + ', ', end='')\n",
    "mickey(20)"
   ]
  },
  {
   "cell_type": "code",
   "execution_count": 107,
   "metadata": {},
   "outputs": [
    {
     "name": "stdout",
     "output_type": "stream",
     "text": [
      "(1, 2, 'Mickey', 4, 'Mouse', 'Mickey', 7, 8, 'Mickey', 'Mouse', 11, 'Mickey', 13, 14, 'MickeyMouse', 16, 17, 'Mickey', 19, 'Mouse'), <class 'function'>\n"
     ]
    }
   ],
   "source": [
    "def mickey_tuple(N):\n",
    "    labels = ()\n",
    "    for i in range(N):\n",
    "        j=i+1\n",
    "        if j%15 == 0: \n",
    "            labels = labels + (\"MickeyMouse\",)\n",
    "        elif j%3 == 0:\n",
    "            labels = labels + (\"Mickey\",)\n",
    "        elif j%5 == 0:\n",
    "            labels = labels + (\"Mouse\",)\n",
    "        else:\n",
    "            labels = labels + (j,)\n",
    "     # NB wouldnt work if labels tuple was declared outside of function\n",
    "    return labels\n",
    "\n",
    "mickey_result = mickey_tuple(20)\n",
    "print(str(mickey_result) + ', ' + str(type(mickey_tuple)))"
   ]
  },
  {
   "cell_type": "code",
   "execution_count": 109,
   "metadata": {},
   "outputs": [
    {
     "ename": "TypeError",
     "evalue": "'list' object is not callable",
     "output_type": "error",
     "traceback": [
      "\u001b[1;31m---------------------------------------------------------------------------\u001b[0m",
      "\u001b[1;31mTypeError\u001b[0m                                 Traceback (most recent call last)",
      "Cell \u001b[1;32mIn[109], line 11\u001b[0m\n\u001b[0;32m      8\u001b[0m     donald_tuple\u001b[38;5;241m=\u001b[39m\u001b[38;5;28mtuple\u001b[39m(donald_list)\n\u001b[0;32m      9\u001b[0m     \u001b[38;5;28;01mreturn\u001b[39;00m donald_tuple\n\u001b[1;32m---> 11\u001b[0m donald_tuple \u001b[38;5;241m=\u001b[39m mickey_to_donald_tuple(mickey_result)\n\u001b[0;32m     12\u001b[0m \u001b[38;5;28mprint\u001b[39m(donald_tuple)\n",
      "Cell \u001b[1;32mIn[109], line 2\u001b[0m, in \u001b[0;36mmickey_to_donald_tuple\u001b[1;34m(mickey_tuple_in)\u001b[0m\n\u001b[0;32m      1\u001b[0m \u001b[38;5;28;01mdef\u001b[39;00m\u001b[38;5;250m \u001b[39m\u001b[38;5;21mmickey_to_donald_tuple\u001b[39m(mickey_tuple_in): \u001b[38;5;66;03m# easier with a long comprehension?\u001b[39;00m\n\u001b[1;32m----> 2\u001b[0m     mickey_list \u001b[38;5;241m=\u001b[39m \u001b[38;5;28mlist\u001b[39m(mickey_tuple_in)\n\u001b[0;32m      3\u001b[0m     donald_list \u001b[38;5;241m=\u001b[39m []\n\u001b[0;32m      4\u001b[0m     \u001b[38;5;28;01mfor\u001b[39;00m i \u001b[38;5;129;01min\u001b[39;00m \u001b[38;5;28mrange\u001b[39m(\u001b[38;5;28mlen\u001b[39m(mickey_list)): \n",
      "\u001b[1;31mTypeError\u001b[0m: 'list' object is not callable"
     ]
    }
   ],
   "source": [
    "def mickey_to_donald_tuple(mickey_tuple): # easier with a long comprehension?\n",
    "    mickey_list = list(mickey_tuple)\n",
    "    donald_list = []\n",
    "    for i in range(len(mickey_list)): \n",
    "        if mickey_list[i] == \"Mickey\": donald_list.append(\"Donald\")\n",
    "        elif mickey_list[i] == \"Mouse\": donald_list.append(\"Duck\")\n",
    "        else: donald_list.append(mickey_list[i])\n",
    "    donald_tuple=tuple(donald_list)\n",
    "    return donald_tuple\n",
    "\n",
    "donald_tuple = mickey_to_donald_tuple(mickey_result)\n",
    "print(donald_tuple)"
   ]
  },
  {
   "cell_type": "code",
   "execution_count": 111,
   "metadata": {},
   "outputs": [
    {
     "name": "stdout",
     "output_type": "stream",
     "text": [
      "(1, 2, 'Donald', 4, 'Duck', 'Donald', 7, 8, 'Donald', 'Duck', 11, 'Donald', 13, 14, 'MickeyMouse', 16, 17, 'Donald', 19, 'Duck')\n"
     ]
    }
   ],
   "source": [
    "def mickey_to_donald_tuple(mickey_tuple):\n",
    "    return tuple(\"Donald\" if item == \"Mickey\" else \n",
    "                \"Duck\" if item == \"Mouse\" else \n",
    "                item for item in mickey_tuple)\n",
    "\n",
    "donald_tuple = mickey_to_donald_tuple(mickey_result)\n",
    "print(donald_tuple)"
   ]
  },
  {
   "cell_type": "code",
   "execution_count": 86,
   "metadata": {},
   "outputs": [
    {
     "name": "stdout",
     "output_type": "stream",
     "text": [
      "(1, 2, 3, 4)\n",
      "(1, 2, 3)\n"
     ]
    }
   ],
   "source": [
    "a_tuple = (1, 2, 3)\n",
    "def increment(mytuple):\n",
    "    mytuple = mytuple + (4,)\n",
    "    return mytuple\n",
    "print(increment(a_tuple))\n",
    "print(a_tuple)"
   ]
  },
  {
   "cell_type": "markdown",
   "metadata": {},
   "source": [
    "2\\. The swap function\n",
    "\n",
    "Write a function that swap the values of two input variables x and y (whatever the type). Try to do that also without a temporary variable"
   ]
  },
  {
   "cell_type": "code",
   "execution_count": 112,
   "metadata": {
    "scrolled": true
   },
   "outputs": [
    {
     "name": "stdout",
     "output_type": "stream",
     "text": [
      "lol lmao\n",
      "('lmao', 'lol')\n"
     ]
    }
   ],
   "source": [
    "def swap(x,y):\n",
    "    temp = x\n",
    "    x=y\n",
    "    y=temp\n",
    "    return x,y\n",
    "a=\"lol\"\n",
    "b=\"lmao\"\n",
    "print(a,b)\n",
    "print(swap(a,b)) # how without temp var?"
   ]
  },
  {
   "cell_type": "markdown",
   "metadata": {},
   "source": [
    "3\\. Computing the distance\n",
    "\n",
    "Write a function that calculates and returns the euclidean distance between two points *u* and *v*, where *u* and *v* are both 2-tuples *(x,y)*. For example, if *u=(3,0)* and *v=(0,4)*, the function should return 5"
   ]
  },
  {
   "cell_type": "code",
   "execution_count": 114,
   "metadata": {},
   "outputs": [
    {
     "name": "stdout",
     "output_type": "stream",
     "text": [
      "1.0\n"
     ]
    }
   ],
   "source": [
    "from math import sqrt\n",
    "def distance(x,y):\n",
    "    try:\n",
    "        d=sqrt((u[0]-v[0])**2 + (u[1]-v[1])**2)\n",
    "        return d\n",
    "    except: print(\"not tuples\")\n",
    "u=(0,0)\n",
    "v=(0,1)\n",
    "dist = distance(u,v)\n",
    "print(dist)"
   ]
  },
  {
   "cell_type": "markdown",
   "metadata": {},
   "source": [
    "4\\. Counting letters\n",
    "\n",
    "Write a program to calculate the number of times each character occurs in a given string *s*. Ignore differneces in capitalization"
   ]
  },
  {
   "cell_type": "code",
   "execution_count": 121,
   "metadata": {},
   "outputs": [
    {
     "name": "stdout",
     "output_type": "stream",
     "text": [
      "{'b': 1, 'a': 4, 's': 1, 't': 1}\n"
     ]
    }
   ],
   "source": [
    "mystring=\"bastAaa\"\n",
    "counter={} # dict\n",
    "\n",
    "def count_chars(word):\n",
    "    lower_word = word.lower() # NB doesnt modify in place, as strings are immutable\n",
    "    for letter in lower_word:\n",
    "        if letter not in counter:\n",
    "            counter[letter] = 0 # key \n",
    "        counter[letter]+=1\n",
    "    print(counter)\n",
    "\n",
    "count_chars(mystring)"
   ]
  },
  {
   "cell_type": "code",
   "execution_count": 122,
   "metadata": {},
   "outputs": [
    {
     "name": "stdout",
     "output_type": "stream",
     "text": [
      "{'name': 'John', 'age': 38, 'height': 188}\n",
      "{'name': 'John', 'age': 39, 'height': 188}\n"
     ]
    }
   ],
   "source": [
    "person_1 = {}\n",
    "\n",
    "person_1['name']=\"John\"\n",
    "person_1['age']=38\n",
    "person_1['height']=188\n",
    "print(person_1)\n",
    "person_1['age']+=1\n",
    "print(person_1)"
   ]
  },
  {
   "cell_type": "markdown",
   "metadata": {},
   "source": [
    "5\\. Isolating the unique\n",
    "\n",
    "Write a function that determines and count the unique numbers in the list *l*"
   ]
  },
  {
   "cell_type": "code",
   "execution_count": 123,
   "metadata": {},
   "outputs": [
    {
     "name": "stdout",
     "output_type": "stream",
     "text": [
      "0\n",
      "1\n",
      "2\n"
     ]
    }
   ],
   "source": [
    "list = [1,2,3]\n",
    "for i in range(len(list)):\n",
    "    print(i)\n",
    "    #print(list[i])"
   ]
  },
  {
   "cell_type": "code",
   "execution_count": 31,
   "metadata": {},
   "outputs": [
    {
     "name": "stdout",
     "output_type": "stream",
     "text": [
      "Unique numbers: {1, 3, 5, 8, 9, 10, 16, 18, 19, 20, 24, 30, 31, 33, 34, 36, 37, 39, 41, 42, 45, 47, 50, 51, 53, 54, 55, 56, 57, 58, 63, 64, 66, 70, 72, 74, 75, 79, 81, 82, 84, 85, 86, 87, 88, 89, 90, 91, 92, 94, 95, 96, 98, 99} total: 54\n"
     ]
    }
   ],
   "source": [
    "l = [36, 45, 58, 3, 74, 96, 64, 45, 31, 10, 24, 19, 33, 86, 99, 18, 63, 70, 85,\n",
    " 85, 63, 47, 56, 42, 70, 84, 88, 55, 20, 54, 8, 56, 51, 79, 81, 57, 37, 91,\n",
    " 1, 84, 84, 36, 66, 9, 89, 50, 42, 91, 50, 95, 90, 98, 39, 16, 82, 31, 92, 41,\n",
    " 45, 30, 66, 70, 34, 85, 94, 5, 3, 36, 72, 91, 84, 34, 87, 75, 53, 51, 20, 89, 51, 20]\n",
    "\n",
    "def count_uniques(mylist):\n",
    "    mylist.sort()\n",
    "    myset=set(mylist)\n",
    "    counter = len(myset)\n",
    "    print(\"Unique numbers:\", myset, \"total:\", counter)\n",
    "\n",
    "count_uniques(l)\n"
   ]
  },
  {
   "cell_type": "markdown",
   "metadata": {},
   "source": [
    "6\\. Combination of functions\n",
    "\n",
    "Write two functions - one that returns the square of a number, and one that returns the cube. Now write a third function that returns the number raised to the 6th power using the two previous functions."
   ]
  },
  {
   "cell_type": "code",
   "execution_count": 124,
   "metadata": {},
   "outputs": [
    {
     "name": "stdout",
     "output_type": "stream",
     "text": [
      "4\n",
      "8\n",
      "64\n"
     ]
    }
   ],
   "source": [
    "def square(number):\n",
    "    square = number*number\n",
    "    return square\n",
    "\n",
    "def cube(number):\n",
    "    cube=number**3\n",
    "    return cube\n",
    "\n",
    "def sixth_power(number):\n",
    "    result=square(cube(number)) # nested functions!\n",
    "    return result\n",
    "\n",
    "print(square(2))\n",
    "print(cube(2))\n",
    "print(sixth_power(2))"
   ]
  },
  {
   "cell_type": "markdown",
   "metadata": {},
   "source": [
    "7\\. Cubes\n",
    "\n",
    "Create a list of the cubes of x for x in *[0, 10]* using:\n",
    "\n",
    "a) a for loop\n",
    "\n",
    "b) a list comprehension"
   ]
  },
  {
   "cell_type": "code",
   "execution_count": 125,
   "metadata": {},
   "outputs": [
    {
     "name": "stdout",
     "output_type": "stream",
     "text": [
      "[0, 1, 8, 27, 64, 125, 216, 343, 512, 729, 1000]\n"
     ]
    }
   ],
   "source": [
    "integers = []\n",
    "for i in range(11):\n",
    "    integers.append(i)\n",
    "#print(integers)\n",
    "\n",
    "cubes = []\n",
    "for integer in integers:\n",
    "    cubes.append(integer**3)\n",
    "\n",
    "print(cubes)"
   ]
  },
  {
   "cell_type": "code",
   "execution_count": 39,
   "metadata": {},
   "outputs": [
    {
     "name": "stdout",
     "output_type": "stream",
     "text": [
      "[0, 1, 8, 27, 64, 125, 216, 343, 512, 729, 1000]\n"
     ]
    }
   ],
   "source": [
    "easy_cubes=[x**3 for x in integers]\n",
    "print(easy_cubes)"
   ]
  },
  {
   "cell_type": "markdown",
   "metadata": {},
   "source": [
    "8\\. Nested list comprehension\n",
    "\n",
    "A Pythagorean triple is an integer solution to the Pythagorean theorem $a^2+b^2=c^2$. The first Pythagorean triple is (3,4,5). Find and put in a tuple all unique Pythagorean triples for the positive integers a, b and c less than 100."
   ]
  },
  {
   "cell_type": "code",
   "execution_count": 126,
   "metadata": {},
   "outputs": [
    {
     "name": "stdout",
     "output_type": "stream",
     "text": [
      "((3, 4, 5), (6, 8, 10), (5, 12, 13), (9, 12, 15), (8, 15, 17), (12, 16, 20), (15, 20, 25), (7, 24, 25), (10, 24, 26), (20, 21, 29), (18, 24, 30), (16, 30, 34), (21, 28, 35), (12, 35, 37), (15, 36, 39), (24, 32, 40), (9, 40, 41), (27, 36, 45), (30, 40, 50), (14, 48, 50), (24, 45, 51), (20, 48, 52), (28, 45, 53), (33, 44, 55), (40, 42, 58), (36, 48, 60), (11, 60, 61), (39, 52, 65), (33, 56, 65), (25, 60, 65), (16, 63, 65), (32, 60, 68), (42, 56, 70), (48, 55, 73), (24, 70, 74), (45, 60, 75), (21, 72, 75), (30, 72, 78), (48, 64, 80), (18, 80, 82), (51, 68, 85), (40, 75, 85), (36, 77, 85), (13, 84, 85), (60, 63, 87), (39, 80, 89), (54, 72, 90), (35, 84, 91), (57, 76, 95), (65, 72, 97))\n"
     ]
    }
   ],
   "source": [
    "pyt_triples_list = [(a,b,c) for c in range(100) for b in range(c) for a in range(b) if a*a + b*b == c*c] # same as nested for loop\n",
    "pyt_triples_tuple = tuple(pyt_triples_list)\n",
    "print(pyt_triples_tuple)"
   ]
  },
  {
   "cell_type": "markdown",
   "metadata": {},
   "source": [
    "9\\. Normalization\n",
    "\n",
    "Write a function that takes a tuple of numbers and returns it with the entries normalized to one"
   ]
  },
  {
   "cell_type": "code",
   "execution_count": 127,
   "metadata": {},
   "outputs": [
    {
     "name": "stdout",
     "output_type": "stream",
     "text": [
      "(0.4242640687119285, 0.565685424949238, 0.7071067811865475)\n"
     ]
    }
   ],
   "source": [
    "from math import sqrt\n",
    "\n",
    "tuple_a = (3,4,5)\n",
    "\n",
    "def normalized_tuple(mytuple):\n",
    "    mylist = [item for item in mytuple]\n",
    "   # mylist\n",
    "    squared_norm=0\n",
    "    for element in mylist:\n",
    "        squared_norm += (element**2)\n",
    "    norm=sqrt(squared_norm)\n",
    "    outlist=[element/norm for element in mylist]\n",
    "    #for element in mylist:\n",
    "        #outlist.append(element/norm)\n",
    "    outtuple=tuple(outlist)\n",
    "    return(outtuple)\n",
    "\n",
    "print(normalized_tuple(tuple_a))"
   ]
  },
  {
   "cell_type": "code",
   "execution_count": null,
   "metadata": {},
   "outputs": [],
   "source": []
  }
 ],
 "metadata": {
  "kernelspec": {
   "display_name": "Python [conda env:base] *",
   "language": "python",
   "name": "conda-base-py"
  },
  "language_info": {
   "codemirror_mode": {
    "name": "ipython",
    "version": 3
   },
   "file_extension": ".py",
   "mimetype": "text/x-python",
   "name": "python",
   "nbconvert_exporter": "python",
   "pygments_lexer": "ipython3",
   "version": "3.13.5"
  }
 },
 "nbformat": 4,
 "nbformat_minor": 4
}
