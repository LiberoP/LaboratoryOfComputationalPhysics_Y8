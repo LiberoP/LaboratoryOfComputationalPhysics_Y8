{
 "cells": [
  {
   "cell_type": "markdown",
   "metadata": {},
   "source": [
    "0\\. Implement a function (whatever you want) and save it to a file (e.g. `function.py`). Import that file and use that function in this notebook.\n"
   ]
  },
  {
   "cell_type": "code",
   "execution_count": 2,
   "metadata": {},
   "outputs": [
    {
     "name": "stdout",
     "output_type": "stream",
     "text": [
      "HI!!!\n"
     ]
    }
   ],
   "source": [
    "import my_library as ml\n",
    "ml.hi() # NB has to be .py, just create a plain text file if from Notebook"
   ]
  },
  {
   "cell_type": "markdown",
   "metadata": {},
   "source": [
    "1\\. Write the following as a list comprehension"
   ]
  },
  {
   "cell_type": "code",
   "execution_count": 19,
   "metadata": {},
   "outputs": [
    {
     "name": "stdout",
     "output_type": "stream",
     "text": [
      "[(0, 0), (0, 1), (0, 2), (0, 3), (1, 0), (1, 1), (1, 2), (1, 3), (2, 0), (2, 1), (2, 2), (2, 3)]\n"
     ]
    }
   ],
   "source": [
    "# 1\n",
    "ans = []\n",
    "for i in range(3):\n",
    "    for j in range(4):\n",
    "        ans.append((i, j))\n",
    "print (ans)"
   ]
  },
  {
   "cell_type": "code",
   "execution_count": 23,
   "metadata": {},
   "outputs": [
    {
     "name": "stdout",
     "output_type": "stream",
     "text": [
      "[(0, 0), (0, 1), (0, 2), (0, 3), (1, 0), (1, 1), (1, 2), (1, 3), (2, 0), (2, 1), (2, 2), (2, 3)]\n",
      "<class 'tuple'>\n"
     ]
    }
   ],
   "source": [
    "mylist = [(x,y) for x in range(3) for y in range(4)] \n",
    "#mylist2 = [y for y in range(4)]\n",
    "print(mylist)\n",
    "#print(mylist2)\n",
    "#print(type(mylist[0]))"
   ]
  },
  {
   "cell_type": "code",
   "execution_count": 20,
   "metadata": {},
   "outputs": [
    {
     "name": "stdout",
     "output_type": "stream",
     "text": [
      "[0, 4, 16]\n"
     ]
    }
   ],
   "source": [
    "# 2\n",
    "ans = map(lambda x: x*x, filter(lambda x: x%2 == 0, range(5)))\n",
    "print (list(ans))"
   ]
  },
  {
   "cell_type": "code",
   "execution_count": 24,
   "metadata": {},
   "outputs": [
    {
     "data": {
      "text/plain": [
       "[0, 4, 16]"
      ]
     },
     "execution_count": 24,
     "metadata": {},
     "output_type": "execute_result"
    }
   ],
   "source": [
    "[x*x for x in range(5) if x%2==0]"
   ]
  },
  {
   "cell_type": "markdown",
   "metadata": {},
   "source": [
    "2\\. Convert the following function into a pure function with no global variables or side effects"
   ]
  },
  {
   "cell_type": "code",
   "execution_count": 25,
   "metadata": {},
   "outputs": [
    {
     "name": "stdout",
     "output_type": "stream",
     "text": [
      "[1, 2, 3, 0, 1, 2, 3, 4]\n",
      "[1, 2, 3, 0, 1, 2, 3, 4]\n"
     ]
    }
   ],
   "source": [
    "x = 5\n",
    "def f(alist):\n",
    "    for i in range(x):\n",
    "         alist.append(i)\n",
    "    return alist\n",
    "\n",
    "alist = [1,2,3]\n",
    "ans = f(alist)\n",
    "print (ans)\n",
    "print (alist) # alist has been changed!"
   ]
  },
  {
   "cell_type": "code",
   "execution_count": 40,
   "metadata": {},
   "outputs": [
    {
     "name": "stdout",
     "output_type": "stream",
     "text": [
      "[[1, 0], 2, [3, 0, [0, 1]]]\n",
      "[[1, 0], 2, [3, 0, [0, 1]], 0, 1, 2, 3, 4]\n"
     ]
    }
   ],
   "source": [
    "def newlist(somelist,n):\n",
    "    new_list=[item for item in somelist] # or \"copy(somelist)\" or \"copy.deepcopy(somelist))\"\n",
    "    for i in range(n):\n",
    "        new_list.append(i)\n",
    "    return new_list\n",
    "\n",
    "mylist = [[1,0],2,[3,0,[0,1]]]\n",
    "corr_ans=newlist(mylist,5)\n",
    "print(mylist)\n",
    "print(corr_ans)"
   ]
  },
  {
   "cell_type": "markdown",
   "metadata": {},
   "source": [
    "3\\. Write a `decorator` hello that makes every wrapped function print “Hello!”, i.e. something like:\n",
    "\n",
    "```python\n",
    "@hello\n",
    "def square(x):\n",
    "    return x*x\n",
    "```\n",
    "\n"
   ]
  },
  {
   "cell_type": "code",
   "execution_count": 69,
   "metadata": {},
   "outputs": [
    {
     "name": "stdout",
     "output_type": "stream",
     "text": [
      "Hello\n"
     ]
    }
   ],
   "source": [
    "def hello_dec(func):\n",
    "    def wrapper(*args): # NB need to specify; \"**kwargs\" if want args in a dictionary ie with keys\n",
    "        print(\"Hello\")\n",
    "        #func(*args)\n",
    "    return wrapper\n",
    "\n",
    "@hello_dec\n",
    "def print_square(x):\n",
    "    print(x*x)\n",
    "\n",
    "print_square(3)"
   ]
  },
  {
   "cell_type": "markdown",
   "metadata": {},
   "source": [
    "4. Write the factorial function so that it a) does and b) does not use recursion."
   ]
  },
  {
   "cell_type": "code",
   "execution_count": 19,
   "metadata": {},
   "outputs": [
    {
     "name": "stdout",
     "output_type": "stream",
     "text": [
      "6\n"
     ]
    }
   ],
   "source": [
    "def rec_factorial(n):\n",
    "    assert (n >= 0 and type(n) == int), \"n must be a positive integer!\"\n",
    "    if n==0:\n",
    "        return 1\n",
    "    else:\n",
    "        return n*rec_factorial(n-1)\n",
    "\n",
    "print(rec_factorial(3))"
   ]
  },
  {
   "cell_type": "code",
   "execution_count": 30,
   "metadata": {},
   "outputs": [
    {
     "ename": "AssertionError",
     "evalue": "n must be a positive integer!",
     "output_type": "error",
     "traceback": [
      "\u001b[1;31m---------------------------------------------------------------------------\u001b[0m",
      "\u001b[1;31mAssertionError\u001b[0m                            Traceback (most recent call last)",
      "Cell \u001b[1;32mIn[30], line 11\u001b[0m\n\u001b[0;32m      8\u001b[0m              acc \u001b[38;5;241m*\u001b[39m\u001b[38;5;241m=\u001b[39m i\n\u001b[0;32m      9\u001b[0m          \u001b[38;5;28;01mreturn\u001b[39;00m acc\n\u001b[1;32m---> 11\u001b[0m \u001b[38;5;28mprint\u001b[39m(factorial(\u001b[38;5;241m1.2\u001b[39m))\n",
      "Cell \u001b[1;32mIn[30], line 2\u001b[0m, in \u001b[0;36mfactorial\u001b[1;34m(n)\u001b[0m\n\u001b[0;32m      1\u001b[0m \u001b[38;5;28;01mdef\u001b[39;00m\u001b[38;5;250m \u001b[39m\u001b[38;5;21mfactorial\u001b[39m(n):\n\u001b[1;32m----> 2\u001b[0m      \u001b[38;5;28;01massert\u001b[39;00m (n \u001b[38;5;241m>\u001b[39m\u001b[38;5;241m=\u001b[39m \u001b[38;5;241m0\u001b[39m \u001b[38;5;129;01mand\u001b[39;00m \u001b[38;5;28mtype\u001b[39m(n) \u001b[38;5;241m==\u001b[39m \u001b[38;5;28mint\u001b[39m), \u001b[38;5;124m\"\u001b[39m\u001b[38;5;124mn must be a positive integer!\u001b[39m\u001b[38;5;124m\"\u001b[39m\n\u001b[0;32m      3\u001b[0m      \u001b[38;5;28;01mif\u001b[39;00m n\u001b[38;5;241m==\u001b[39m\u001b[38;5;241m0\u001b[39m \u001b[38;5;129;01mor\u001b[39;00m n\u001b[38;5;241m==\u001b[39m\u001b[38;5;241m1\u001b[39m:\n\u001b[0;32m      4\u001b[0m          \u001b[38;5;28;01mreturn\u001b[39;00m \u001b[38;5;241m1\u001b[39m\n",
      "\u001b[1;31mAssertionError\u001b[0m: n must be a positive integer!"
     ]
    }
   ],
   "source": [
    "def factorial(n):\n",
    "     assert (n >= 0 and type(n) == int), \"n must be a positive integer!\"\n",
    "     if n==0 or n==1:\n",
    "         return 1\n",
    "     else:\n",
    "         acc = 1\n",
    "         for i in range(1,n+1):\n",
    "             acc *= i\n",
    "         return acc\n",
    "\n",
    "print(factorial(1.2))"
   ]
  },
  {
   "cell_type": "markdown",
   "metadata": {},
   "source": [
    "5\\. Use HOFs (zip in particular) to compute the weight of a circle, a disk and a sphere, assuming different radii and different densities:\n",
    "\n",
    "```python\n",
    "densities = {\"Al\":[0.5,1,2],\"Fe\":[3,4,5],\"Pb\": [15,20,30]}\n",
    "radii = [1,2,3]\n",
    "```\n",
    "\n",
    "where the entries of the dictionary's values are the linear, superficial and volumetric densities of the materials respectively.\n",
    "\n",
    "In particular define a list of three lambda functions using a comprehension that computes the circumference, the area and the volume for a given radius.\n"
   ]
  },
  {
   "cell_type": "code",
   "execution_count": 85,
   "metadata": {},
   "outputs": [
    {
     "name": "stdout",
     "output_type": "stream",
     "text": [
      "[[3.141592653589793, 12.566370614359172, 28.274333882308138], [12.566370614359172, 50.26548245743669, 113.09733552923255], [62.83185307179586, 251.32741228718345, 565.4866776461628]]\n",
      "[[[3.141592653589793, 12.566370614359172, 28.274333882308138], [12.566370614359172, 50.26548245743669, 113.09733552923255], [62.83185307179586, 251.32741228718345, 565.4866776461628]], [[12.566370614359172, 75.39822368615503, 226.1946710584651], [31.41592653589793, 188.49555921538757, 565.4866776461628], [188.49555921538757, 1130.9733552923256, 3392.9200658769764]], [[8.377580409572781, 67.02064327658225, 226.19467105846508], [20.94395102393195, 167.5516081914556, 565.4866776461627], [125.66370614359171, 1005.3096491487337, 3392.920065876976]]]\n"
     ]
    }
   ],
   "source": [
    "# ---> ? TO CHECK \n",
    "\n",
    "import math as m\n",
    "densities = {\"Al\":[0.5,1,2],\"Fe\":[3,4,5],\"Pb\": [15,20,30]}\n",
    "#materials = [key for key in densities.keys()]\n",
    "materials = [mat for mat in densities]\n",
    "#print(materials)\n",
    "radii = [1,2,3]\n",
    "height=[2,3,4]\n",
    "\n",
    "shapes = [\"circle\", \"disk\", \"sphere\"]\n",
    "\n",
    "circumferencences = [2*m.pi*r for r in radii]\n",
    "areas = [m.pi*r**2 for r in radii]\n",
    "volumes = [[0 for r in radii], [a*h for a,h in zip(areas,height)], [4/3*m.pi*r**3 for r in radii]] # for circle, disk, sphere\n",
    "#print(volumes)\n",
    "sizes = [circumferencences, areas, volume]\n",
    "\n",
    "#print(densities[\"Al\"])\n",
    "#print([densities[mat][2] for mat in materials])\n",
    "#print([v for v in volumes])\n",
    "circle_weight = [[a*densities[mat][1] for a in areas] for mat in materials] # for Al, Fe, Pb; r1, r2, r3; disk\n",
    "disk_weight = [[v*densities[mat][2] for v in volumes[1]] for mat in materials] # for Al, Fe, Pb; r1, r2, r3; disk\n",
    "sphere_weight =  [[v*densities[mat][2] for v in volumes[2]] for mat in materials] # for Al, Fe, Pb; r1, r2, r3; sphere\n",
    "print(circle_weight)\n",
    "weights_tensor = [circle_weight, disk_weight, sphere_weight]\n",
    "\n",
    "print(weights_tensor)"
   ]
  },
  {
   "cell_type": "markdown",
   "metadata": {},
   "source": [
    "6\\. Edit the class defintion to add an instance attribute of is_hungry = True to the Dog class. Then add a method called eat() which changes the value of is_hungry to False when called. Figure out the best way to feed each dog and then output “My dogs are hungry.” if all are hungry or “My dogs are not hungry.” if all are not hungry. The final output should look like this:\n",
    "\n",
    "`I have 3 dogs. \n",
    "Tom is 6. \n",
    "Fletcher is 7. \n",
    "Larry is 9. \n",
    "And they're all mammals, of course. \n",
    "My dogs are not hungry.\n",
    "`\n",
    "\n",
    "```python\n",
    "# Parent class\n",
    "class Dog:\n",
    "\n",
    "    # Class attribute\n",
    "    species = 'mammal'\n",
    "\n",
    "    # Initializer / Instance attributes\n",
    "    def __init__(self, name, age):\n",
    "        self.name = name\n",
    "        self.age = age\n",
    "\n",
    "    # instance method\n",
    "    def description(self):\n",
    "        return \"{} is {} years old\".format(self.name, self.age)\n",
    "\n",
    "    # instance method\n",
    "    def speak(self, sound):\n",
    "        return \"{} says {}\".format(self.name, sound)\n",
    "\n",
    "# Child class (inherits from Dog class)\n",
    "class RussellTerrier(Dog):\n",
    "    def run(self, speed):\n",
    "        return \"{} runs {}\".format(self.name, speed)\n",
    "\n",
    "# Child class (inherits from Dog class)\n",
    "class Bulldog(Dog):\n",
    "    def run(self, speed):\n",
    "        return \"{} runs {}\".format(self.name, speed)\n",
    "```"
   ]
  },
  {
   "cell_type": "code",
   "execution_count": 118,
   "metadata": {},
   "outputs": [
    {
     "name": "stdout",
     "output_type": "stream",
     "text": [
      "I have 3 dogs. Tom is 3. Fletcher is 7. Larry is 9. And they're all mammals, of course. My dogs are hungry.\n"
     ]
    }
   ],
   "source": [
    "from itertools import count\n",
    "\n",
    "# Parent class\n",
    "class Dog:\n",
    "    counter = 0 # class variable\n",
    "\n",
    "    # Class attribute\n",
    "    species = 'mammal'\n",
    "\n",
    "    # Initializer / Instance attributes\n",
    "    def __init__(self, name, age):\n",
    "        Dog.counter += 1 # only works if instances arent removed; otherwise use itertools.count\n",
    "        self.is_hungry = True\n",
    "        self.name = name\n",
    "        self.age = age\n",
    "\n",
    "    # instance method\n",
    "    def description(self):\n",
    "        return \"{} is {} years old\".format(self.name, self.age)\n",
    "\n",
    "    # instance method\n",
    "    def speak(self, sound):\n",
    "        return \"{} says {}\".format(self.name, sound)\n",
    "\n",
    "    def eat(self):\n",
    "        self.is_hungry = False\n",
    "\n",
    "# Child class (inherits from Dog class)\n",
    "class RussellTerrier(Dog):\n",
    "    def run(self, speed):\n",
    "        return \"{} runs {}\".format(self.name, speed)\n",
    "\n",
    "# Child class (inherits from Dog class)\n",
    "class Bulldog(Dog):\n",
    "    def run(self, speed):\n",
    "        return \"{} runs {}\".format(self.name, speed)\n",
    "\n",
    "dog1 = Dog(\"Tom\", 3)\n",
    "dog2 = Dog(\"Fletcher\", 7)\n",
    "dog3 = Dog(\"Larry\", 9)\n",
    "dogs = [dog1, dog2, dog3]\n",
    "\n",
    "if (dog1.species==dog2.species==dog3.species):\n",
    "    species = str(tom.species)+\"s\"\n",
    "else: species = \"ERROR\"\n",
    "\n",
    "#print(species)\n",
    "\n",
    "#Dog.eat(dog3)\n",
    "#Dog.eat(dog1)\n",
    "#Dog.eat(dog2)\n",
    "\n",
    "def hunger_status():\n",
    "    hunger_status = \"hungry\"\n",
    "    all_not_hungry = True\n",
    "    for dog in dogs: \n",
    "        if dog.is_hungry == False:\n",
    "            hunger_status = \"some hungry, some not hungry\"\n",
    "        else:\n",
    "            all_not_hungry = False\n",
    "    if all_not_hungry == True:\n",
    "        hunger_status = \"not hungry\"\n",
    "    return hunger_status\n",
    "\n",
    "\n",
    "print(f\"I have {Dog.counter} dogs. {dog1.name} is {dog1.age}. {dog2.name} is {dog2.age}. {dog3.name} is {dog3.age}. And they're all {species}, of course. My dogs are {hunger_status()}.\")"
   ]
  },
  {
   "cell_type": "code",
   "execution_count": null,
   "metadata": {},
   "outputs": [],
   "source": []
  }
 ],
 "metadata": {
  "kernelspec": {
   "display_name": "Python [conda env:base] *",
   "language": "python",
   "name": "conda-base-py"
  },
  "language_info": {
   "codemirror_mode": {
    "name": "ipython",
    "version": 3
   },
   "file_extension": ".py",
   "mimetype": "text/x-python",
   "name": "python",
   "nbconvert_exporter": "python",
   "pygments_lexer": "ipython3",
   "version": "3.13.5"
  }
 },
 "nbformat": 4,
 "nbformat_minor": 4
}
