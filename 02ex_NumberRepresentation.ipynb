{
 "cells": [
  {
   "cell_type": "markdown",
   "metadata": {},
   "source": [
    "1\\. Write a function that converts number representation, bin<->dec<->hex. (Clearly using the corresponding python built-in functions is not fair..)"
   ]
  },
  {
   "cell_type": "code",
   "execution_count": 152,
   "metadata": {},
   "outputs": [
    {
     "name": "stdout",
     "output_type": "stream",
     "text": [
      "0\n",
      "9\n"
     ]
    }
   ],
   "source": [
    "def hex_letters(n): # or, with dictionaries and get(*args)\n",
    "    assert type(n) == int\n",
    "    if n == 10: n = 'A'\n",
    "    elif n == 11: n = 'B'\n",
    "    elif n == 12: n = 'C'\n",
    "    elif n == 13: n = 'D'\n",
    "    elif n == 14: n = 'E'\n",
    "    elif n == 15: n = 'F'\n",
    "    else: n = str(n)\n",
    "    return n\n",
    "\n",
    "def hex_digits(l):\n",
    "    if l == 'A': l = 10\n",
    "    elif l == 'B': l = 11\n",
    "    elif l == 'C': l = 12\n",
    "    elif l == 'D': l = 13\n",
    "    elif l == 'E': l = 14\n",
    "    elif l == 'F': l = 15\n",
    "    else: l = int(l)\n",
    "    return l\n",
    "\n",
    "print(hex_letters(0))\n",
    "print(hex_digits(9))"
   ]
  },
  {
   "cell_type": "code",
   "execution_count": 147,
   "metadata": {},
   "outputs": [],
   "source": [
    "def approx(n,m):\n",
    "    if m>=5:\n",
    "        n+=1\n",
    "    else:\n",
    "        n=n\n",
    "    return n"
   ]
  },
  {
   "cell_type": "code",
   "execution_count": 1,
   "metadata": {},
   "outputs": [
    {
     "name": "stdout",
     "output_type": "stream",
     "text": [
      "0.0\n"
     ]
    }
   ],
   "source": [
    "def converter(x, inrepr, outrepr):\n",
    "   # assert (type(x) == int or type(x) == float) and (x>=0), \"x must be non-negative int or float\" # all possible options except complex numbers\n",
    "    floor_x_str = ''\n",
    "    fractional_x_str = ''\n",
    "     # leads to unstable results on decimal digits from bin to dec - fix ?\n",
    "    \n",
    "        \n",
    "    if inrepr == \"dec\" and outrepr == \"bin\": \n",
    "        floor_x = int(x // 1)\n",
    "        fractional_x = x - x // 1\n",
    "        while floor_x > 0:\n",
    "            remainder = floor_x%2\n",
    "            floor_x = floor_x//2\n",
    "            floor_x_str += str(remainder)\n",
    "        floor_x_str = floor_x_str[::-1]\n",
    "        for i in range(5): # fixed number of fractionary digits\n",
    "            fractional_x *= 2\n",
    "            remainder = int(fractional_x // 1)\n",
    "            fractional_x = fractional_x - fractional_x // 1 \n",
    "            fractional_x_str += str(remainder)\n",
    "        result = float(floor_x_str + '.' + fractional_x_str)\n",
    "        \n",
    "    elif inrepr == \"dec\" and outrepr == \"hex\":\n",
    "        floor_x = int(x // 1)\n",
    "        fractional_x = x - x // 1\n",
    "        if floor_x == 0: floor_x_str = '0'\n",
    "        else:\n",
    "            while floor_x > 0:\n",
    "                remainder = hex_letters(floor_x%16)\n",
    "                floor_x = floor_x//16\n",
    "                floor_x_str += remainder\n",
    "            floor_x_str = floor_x_str[::-1]\n",
    "        for i in range(5): # fixed number of significant digits\n",
    "            fractional_x *= 16\n",
    "            remainder = hex_letters(int(fractional_x // 1))\n",
    "            fractional_x = fractional_x - fractional_x // 1 \n",
    "            fractional_x_str += remainder\n",
    "        result = floor_x_str + '.' + fractional_x_str\n",
    "        \n",
    "    elif inrepr == \"bin\" and outrepr == \"dec\":\n",
    "        floor_x = int(x // 1)\n",
    "        fractional_x = x - x // 1\n",
    "        floor_result = 0\n",
    "        for i,digit in enumerate(str(floor_x)[::-1]):\n",
    "            floor_result += int(digit) * 2**i\n",
    "        fractional_result = 0\n",
    "        fractional_x_str = str(fractional_x)+'000000'\n",
    "        for i in range(2,7):\n",
    "            digit = str(fractional_x_str[i])\n",
    "            #assert (digit == '1' or digit == '0'), \"Input must be binary float or int\"\n",
    "            fractional_result += int(digit) * 2**(-i+1)\n",
    "        result = floor_result + fractional_result\n",
    "\n",
    "    elif inrepr == \"hex\" and outrepr == \"dec\":\n",
    "        split_x = str(x).split('.')\n",
    "        floor_x = [d for d in split_x[0]]\n",
    "        fractional_x = [d for d in split_x[1]] + [0,0,0,0,0,0]\n",
    "        floor_result = 0\n",
    "        for i,digit in enumerate(floor_x[::-1]):\n",
    "            floor_result += int(hex_digits(digit)) * 16**i\n",
    "        fractional_result = 0\n",
    "        for i in range(0,5):\n",
    "            digit = str(fractional_x[i])\n",
    "            #assert (digit == '1' or digit == '0'), \"Input must be binary float or int\"\n",
    "            fractional_result += hex_digits(digit) * 16**(-i-1)\n",
    "        result = floor_result + fractional_result\n",
    "            \n",
    "    return result\n",
    "    \n",
    "\n",
    "print(converter(0, 'dec', 'bin'))\n",
    "    "
   ]
  },
  {
   "cell_type": "markdown",
   "metadata": {},
   "source": [
    "2\\. Write a function that converts a 32 bit word into a single precision floating point (i.e. interprets the various bits as sign, mantissa and exponent)"
   ]
  },
  {
   "cell_type": "code",
   "execution_count": null,
   "metadata": {},
   "outputs": [],
   "source": [
    "# idea: input as string, split it using slice syntax for lists,\n",
    "# assign to each int value (for sign value it's +-1);\n",
    "# then result is product of the three, approximate it to one digit using the \"approx\" function"
   ]
  },
  {
   "cell_type": "markdown",
   "metadata": {},
   "source": [
    "3\\. Write a program to determine the underflow and overflow limits (within a factor of 2) for python on your computer. \n",
    "\n",
    "**Tips**: define two variables inizialized to 1 and halve/double them enough time to exceed the under/over-flow limits  "
   ]
  },
  {
   "cell_type": "code",
   "execution_count": null,
   "metadata": {},
   "outputs": [],
   "source": [
    "# idea: for loop with counter variable = i, within a try-except block where except prints counter variable (if it can?)\n",
    "\n",
    "def under_over():\n",
    "    u=1\n",
    "    v=1\n",
    "    count = 0\n",
    "    for i "
   ]
  },
  {
   "cell_type": "markdown",
   "metadata": {},
   "source": [
    "4\\. Write a program to determine the machine precision\n",
    "\n",
    "**Tips**: define a new variable by adding a smaller and smaller value (proceeding similarly to prob. 2) to an original variable and check the point where the two are the same "
   ]
  },
  {
   "cell_type": "code",
   "execution_count": null,
   "metadata": {},
   "outputs": [],
   "source": [
    "# idea: while cycle, exceptions not necessary"
   ]
  },
  {
   "cell_type": "markdown",
   "metadata": {},
   "source": [
    "5\\. Write a function that takes in input three parameters $a$, $b$ and $c$ and prints out the two solutions to the quadratic equation $ax^2+bx+c=0$ using the standard formula:\n",
    "$$\n",
    "x=\\frac{-b\\pm\\sqrt{b^2-4ac}}{2a}\n",
    "$$\n",
    "\n",
    "(a) use the program to compute the solution for $a=0.001$, $b=1000$ and $c=0.001$\n",
    "\n",
    "(b) re-express the standard solution formula by multiplying top and bottom by $-b\\mp\\sqrt{b^2-4ac}$ and again find the solution for $a=0.001$, $b=1000$ and $c=0.001$. How does it compare with what previously obtained? Why?\n",
    "\n",
    "(c) write a function that compute the roots of a quadratic equation accurately in all cases"
   ]
  },
  {
   "cell_type": "code",
   "execution_count": null,
   "metadata": {},
   "outputs": [],
   "source": [
    "# idea: \n",
    "# b - do calculation on paper;\n",
    "# intuitively not anymore dividing by a small number but by smth proportional to b, at least for the negative solution; also b simplifies at numerator\n",
    "# c- see if c also handles well \"regular\" cases;\n",
    "# also try cases with very big / small b, c; might help to handle diff cases with diff formulas"
   ]
  },
  {
   "cell_type": "markdown",
   "metadata": {},
   "source": [
    "6\\. Write a program that implements the function $f(x)=x(x−1)$\n",
    "\n",
    "(a) Calculate the derivative of the function at the point $x = 1$ using the derivative definition:\n",
    "\n",
    "$$\n",
    "\\frac{{\\rm d}f}{{\\rm d}x} = \\lim_{\\delta\\to0} \\frac{f(x+\\delta)-f(x)}{\\delta}\n",
    "$$\n",
    "\n",
    "with $\\delta = 10^{−2}$. Calculate the true value of the same derivative analytically and compare with the answer your program gives. The two will not agree perfectly. Why not?\n",
    "\n",
    "(b) Repeat the calculation for $\\delta = 10^{−4}, 10^{−6}, 10^{−8}, 10^{−10}, 10^{−12}$ and $10^{−14}$. How does the accuracy scales with $\\delta$?"
   ]
  },
  {
   "cell_type": "code",
   "execution_count": null,
   "metadata": {},
   "outputs": [],
   "source": [
    "# idea: (straightforward implementation;)\n",
    "# reason why: dividing by number close to zero accentuates tiny errors in numerator (evm prove it with error propagation)"
   ]
  },
  {
   "cell_type": "markdown",
   "metadata": {},
   "source": [
    "7\\. Consider the integral of the semicircle of radius 1:\n",
    "$$\n",
    "I=\\int_{-1}^{1} \\sqrt(1-x^2) {\\rm d}x\n",
    "$$\n",
    "which it's known to be $I=\\frac{\\pi}{2}=1.57079632679...$.\n",
    "Alternatively we can use the Riemann definition of the integral:\n",
    "$$\n",
    "I=\\lim_{N\\to\\infty} \\sum_{k=1}^{N} h y_k \n",
    "$$\n",
    "\n",
    "with $h=2/N$ the width of each of the $N$ slices the domain is divided into and where\n",
    "$y_k$ is the value of the function at the $k-$th slice.\n",
    "\n",
    "(a) Write a programe to compute the integral with $N=100$. How does the result compares to the true value?\n",
    "\n",
    "(b) How much can $N$ be increased if the computation needs to be run in less than a second? What is the gain in running it for 1 minute? \n"
   ]
  },
  {
   "cell_type": "code",
   "execution_count": null,
   "metadata": {},
   "outputs": [],
   "source": [
    "# idea: straightforward and similar to previous two; then just a matter of playing around"
   ]
  }
 ],
 "metadata": {
  "kernelspec": {
   "display_name": "Python [conda env:base] *",
   "language": "python",
   "name": "conda-base-py"
  },
  "language_info": {
   "codemirror_mode": {
    "name": "ipython",
    "version": 3
   },
   "file_extension": ".py",
   "mimetype": "text/x-python",
   "name": "python",
   "nbconvert_exporter": "python",
   "pygments_lexer": "ipython3",
   "version": "3.13.5"
  }
 },
 "nbformat": 4,
 "nbformat_minor": 4
}
